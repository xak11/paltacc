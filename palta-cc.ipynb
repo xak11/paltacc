{
 "cells": [
  {
   "cell_type": "markdown",
   "metadata": {},
   "source": [
    "# Paltas de CC de Sammy Arias"
   ]
  },
  {
   "cell_type": "markdown",
   "metadata": {},
   "source": [
    "### Librerias"
   ]
  },
  {
   "cell_type": "code",
   "execution_count": 198,
   "metadata": {},
   "outputs": [],
   "source": [
    "import math\n",
    "import time\n",
    "import inspect\n",
    "import numpy as np\n",
    "from scipy import linalg\n",
    "import ipywidgets as widgets\n",
    "from ipywidgets import interact, fixed\n",
    "from matplotlib import pyplot as plt\n",
    "%matplotlib inline"
   ]
  },
  {
   "cell_type": "code",
   "execution_count": 105,
   "metadata": {},
   "outputs": [],
   "source": [
    "lam = np.diag(np.arange(1,11,1))\n",
    "np.random.seed(739)\n",
    "mV,_ = np.linalg.qr(np.random.random((10,10)))\n",
    "ma = mV.dot(lam.dot(mV.T))"
   ]
  },
  {
   "cell_type": "markdown",
   "metadata": {},
   "source": [
    "# Valores y vectores propios"
   ]
  },
  {
   "cell_type": "markdown",
   "metadata": {},
   "source": [
    "## Power Iteration"
   ]
  },
  {
   "cell_type": "code",
   "execution_count": 106,
   "metadata": {},
   "outputs": [],
   "source": [
    "def power_iteration(A, x, k):\n",
    "    for i in range(k):\n",
    "        u = x/np.linalg.norm(x)\n",
    "        x = np.dot(A, u)\n",
    "        lam = np.dot(u.T, x) \n",
    "    u = x/np.linalg.norm(x)\n",
    "    return (lam, u)"
   ]
  },
  {
   "cell_type": "code",
   "execution_count": 107,
   "metadata": {},
   "outputs": [
    {
     "data": {
      "text/plain": [
       "(array([[9.99999999]]),\n",
       " array([[-0.14586551],\n",
       "        [ 0.19100024],\n",
       "        [ 0.19127136],\n",
       "        [ 0.10987366],\n",
       "        [ 0.12118704],\n",
       "        [ 0.50347803],\n",
       "        [-0.34801216],\n",
       "        [ 0.10513663],\n",
       "        [ 0.06362824],\n",
       "        [-0.69942409]]))"
      ]
     },
     "execution_count": 107,
     "metadata": {},
     "output_type": "execute_result"
    }
   ],
   "source": [
    "power_iteration(ma,np.ones((10,1)),100)"
   ]
  },
  {
   "cell_type": "markdown",
   "metadata": {},
   "source": [
    "## Inverse Power Iteration"
   ]
  },
  {
   "cell_type": "code",
   "execution_count": 98,
   "metadata": {},
   "outputs": [],
   "source": [
    "def inverse_power_iteration(A, x, s, k):\n",
    "    As = A - s*np.eye(*A.shape)\n",
    "    for i in range(k):\n",
    "        u = x/np.linalg.norm(x)\n",
    "        x = np.linalg.solve(As, u)\n",
    "        lam = np.dot(u.T, x)\n",
    "    u = x/np.linalg.norm(x)\n",
    "    return (1./lam+s, u)"
   ]
  },
  {
   "cell_type": "code",
   "execution_count": 99,
   "metadata": {},
   "outputs": [
    {
     "data": {
      "text/plain": [
       "(array([[1.]]),\n",
       " array([[0.39899009],\n",
       "        [0.40884081],\n",
       "        [0.43570072],\n",
       "        [0.41839804],\n",
       "        [0.11357094],\n",
       "        [0.1112547 ],\n",
       "        [0.0998296 ],\n",
       "        [0.06011853],\n",
       "        [0.41664417],\n",
       "        [0.31034747]]))"
      ]
     },
     "execution_count": 99,
     "metadata": {},
     "output_type": "execute_result"
    }
   ],
   "source": [
    "inverse_power_iteration(ma,np.ones((10,1)),0,100)"
   ]
  },
  {
   "cell_type": "markdown",
   "metadata": {},
   "source": [
    "## Rayleigh Quotient Iteration"
   ]
  },
  {
   "cell_type": "code",
   "execution_count": 120,
   "metadata": {},
   "outputs": [],
   "source": [
    "def rqi(A, x, k):\n",
    "    for i in range(k):\n",
    "        u = x/np.linalg.norm(x)\n",
    "        lam = np.dot(u.T, np.dot(A, u))\n",
    "        try:\n",
    "            print(lam)\n",
    "            x = np.linalg.solve(A -lam*np.eye(*A.shape), u)\n",
    "        except numpy.linalg.LinAlgError:\n",
    "            break\n",
    "    u = x/np.linalg.norm(x)\n",
    "    lam = float(np.dot(u.T, np.dot(A, u)))\n",
    "    return (lam, u)"
   ]
  },
  {
   "cell_type": "code",
   "execution_count": 121,
   "metadata": {},
   "outputs": [
    {
     "name": "stdout",
     "output_type": "stream",
     "text": [
      "[[1.53977543]]\n",
      "[[1.19914012]]\n",
      "[[1.01412855]]\n",
      "[[1.00000293]]\n",
      "[[1.]]\n",
      "[[1.]]\n",
      "[[1.]]\n",
      "[[1.]]\n",
      "[[1.]]\n",
      "[[1.]]\n",
      "[[1.]]\n",
      "[[1.]]\n",
      "[[1.]]\n",
      "[[1.]]\n",
      "[[1.]]\n",
      "[[1.]]\n",
      "[[1.]]\n",
      "[[1.]]\n",
      "[[1.]]\n",
      "[[1.]]\n",
      "[[1.]]\n",
      "[[1.]]\n",
      "[[1.]]\n",
      "[[1.]]\n",
      "[[1.]]\n",
      "[[1.]]\n",
      "[[1.]]\n",
      "[[1.]]\n",
      "[[1.]]\n",
      "[[1.]]\n",
      "[[1.]]\n",
      "[[1.]]\n",
      "[[1.]]\n",
      "[[1.]]\n",
      "[[1.]]\n",
      "[[1.]]\n",
      "[[1.]]\n",
      "[[1.]]\n",
      "[[1.]]\n",
      "[[1.]]\n",
      "[[1.]]\n",
      "[[1.]]\n",
      "[[1.]]\n",
      "[[1.]]\n",
      "[[1.]]\n",
      "[[1.]]\n",
      "[[1.]]\n",
      "[[1.]]\n",
      "[[1.]]\n",
      "[[1.]]\n",
      "[[1.]]\n",
      "[[1.]]\n",
      "[[1.]]\n",
      "[[1.]]\n",
      "[[1.]]\n",
      "[[1.]]\n",
      "[[1.]]\n",
      "[[1.]]\n",
      "[[1.]]\n",
      "[[1.]]\n",
      "[[1.]]\n",
      "[[1.]]\n",
      "[[1.]]\n",
      "[[1.]]\n",
      "[[1.]]\n",
      "[[1.]]\n",
      "[[1.]]\n",
      "[[1.]]\n",
      "[[1.]]\n",
      "[[1.]]\n",
      "[[1.]]\n",
      "[[1.]]\n",
      "[[1.]]\n",
      "[[1.]]\n",
      "[[1.]]\n",
      "[[1.]]\n",
      "[[1.]]\n",
      "[[1.]]\n",
      "[[1.]]\n",
      "[[1.]]\n",
      "[[1.]]\n",
      "[[1.]]\n",
      "[[1.]]\n",
      "[[1.]]\n",
      "[[1.]]\n",
      "[[1.]]\n",
      "[[1.]]\n",
      "[[1.]]\n",
      "[[1.]]\n",
      "[[1.]]\n",
      "[[1.]]\n",
      "[[1.]]\n",
      "[[1.]]\n",
      "[[1.]]\n",
      "[[1.]]\n",
      "[[1.]]\n",
      "[[1.]]\n",
      "[[1.]]\n",
      "[[1.]]\n",
      "[[1.]]\n"
     ]
    },
    {
     "data": {
      "text/plain": [
       "(0.9999999999999998,\n",
       " array([[0.39899009],\n",
       "        [0.40884081],\n",
       "        [0.43570072],\n",
       "        [0.41839804],\n",
       "        [0.11357094],\n",
       "        [0.1112547 ],\n",
       "        [0.0998296 ],\n",
       "        [0.06011853],\n",
       "        [0.41664417],\n",
       "        [0.31034747]]))"
      ]
     },
     "execution_count": 121,
     "metadata": {},
     "output_type": "execute_result"
    }
   ],
   "source": [
    "rqi(ma,np.ones((10,1)),100)"
   ]
  },
  {
   "cell_type": "markdown",
   "metadata": {},
   "source": [
    "## Normalized Simultaneous Iteration"
   ]
  },
  {
   "cell_type": "code",
   "execution_count": 122,
   "metadata": {},
   "outputs": [],
   "source": [
    "def normalized_simultaneus_iteration(A,Q,k):\n",
    "    for i in range(k):\n",
    "        Q,R = np.linalg.qr(A.dot(Q))\n",
    "    iv = np.diag(Q.T.dot(A.dot(Q)))\n",
    "    return iv"
   ]
  },
  {
   "cell_type": "code",
   "execution_count": 123,
   "metadata": {},
   "outputs": [
    {
     "data": {
      "text/plain": [
       "array([9.99999999, 9.00000001, 8.        , 7.        , 6.        ,\n",
       "       5.        , 4.        , 3.        , 2.        , 1.        ])"
      ]
     },
     "execution_count": 123,
     "metadata": {},
     "output_type": "execute_result"
    }
   ],
   "source": [
    "normalized_simultaneus_iteration(ma,np.eye(10),100)"
   ]
  },
  {
   "cell_type": "markdown",
   "metadata": {},
   "source": [
    "## Unshifted QR algorithm"
   ]
  },
  {
   "cell_type": "code",
   "execution_count": 124,
   "metadata": {},
   "outputs": [],
   "source": [
    "def unshifted_QR_algorithm(R,Q,k):\n",
    "    Q_a = Q\n",
    "    for i in range(k):\n",
    "        Q,R = np.linalg.qr(R.dot(Q))\n",
    "        Q_a = Q_a.dot(Q)\n",
    "    iv = np.diag(R.dot(Q))\n",
    "    return iv"
   ]
  },
  {
   "cell_type": "code",
   "execution_count": 125,
   "metadata": {},
   "outputs": [
    {
     "data": {
      "text/plain": [
       "array([9.99999999, 9.00000001, 8.        , 7.        , 6.        ,\n",
       "       5.        , 4.        , 3.        , 2.        , 1.        ])"
      ]
     },
     "execution_count": 125,
     "metadata": {},
     "output_type": "execute_result"
    }
   ],
   "source": [
    "unshifted_QR_algorithm(ma,np.eye(10),100)"
   ]
  },
  {
   "cell_type": "markdown",
   "metadata": {},
   "source": [
    "# Integracion numerica"
   ]
  },
  {
   "cell_type": "markdown",
   "metadata": {},
   "source": [
    "## Sumas de Riemann"
   ]
  },
  {
   "cell_type": "code",
   "execution_count": 162,
   "metadata": {},
   "outputs": [],
   "source": [
    "def riemann(fun, N, a, b, direction='izq'):\n",
    "    f = np.vectorize(fun)\n",
    "    x = np.linspace(a, b, N)\n",
    "    dx = x[1]-x[0]\n",
    "    if(direction=='izq'):\n",
    "        puntos = x[:-1]\n",
    "    elif(direction=='der'):\n",
    "        puntos = x[1:]\n",
    "    else:\n",
    "        print('direccion incorrecta')\n",
    "        exit()\n",
    "    int_val = (dx*f(puntos)).sum()\n",
    "    return int_val"
   ]
  },
  {
   "cell_type": "code",
   "execution_count": 163,
   "metadata": {},
   "outputs": [
    {
     "data": {
      "text/plain": [
       "40.84957317280554"
      ]
     },
     "execution_count": 163,
     "metadata": {},
     "output_type": "execute_result"
    }
   ],
   "source": [
    "riemann(lambda x:x**2,100,1,5)"
   ]
  },
  {
   "cell_type": "markdown",
   "metadata": {},
   "source": [
    "## Regla del Punto Medio"
   ]
  },
  {
   "cell_type": "code",
   "execution_count": 167,
   "metadata": {},
   "outputs": [],
   "source": [
    "def punto_medio(fun,N,a,b):\n",
    "    f = np.vectorize(fun)\n",
    "    x = np.linspace(a,b,N)\n",
    "    dx = x[1] - x[0]\n",
    "    int_val = (dx*f(x[:-1]+0.5*dx)).sum()\n",
    "    return int_val"
   ]
  },
  {
   "cell_type": "code",
   "execution_count": 168,
   "metadata": {},
   "outputs": [
    {
     "data": {
      "text/plain": [
       "41.33278917117305"
      ]
     },
     "execution_count": 168,
     "metadata": {},
     "output_type": "execute_result"
    }
   ],
   "source": [
    "punto_medio(lambda x:x**2,100,1,5)"
   ]
  },
  {
   "cell_type": "markdown",
   "metadata": {},
   "source": [
    "## Regla del Trapecio"
   ]
  },
  {
   "cell_type": "code",
   "execution_count": 160,
   "metadata": {},
   "outputs": [],
   "source": [
    "def metodo_del_trapecio(fun,N,a,b):\n",
    "    f = np.vectorize(fun)\n",
    "    x = np.linspace(a,b,N)\n",
    "    dx = x[1]-x[0]\n",
    "    int_val = (0.5*dx*(f(x[:-1])+f(x[1:]))).sum()\n",
    "    return int_val"
   ]
  },
  {
   "cell_type": "code",
   "execution_count": 161,
   "metadata": {},
   "outputs": [
    {
     "data": {
      "text/plain": [
       "41.33442165765403"
      ]
     },
     "execution_count": 161,
     "metadata": {},
     "output_type": "execute_result"
    }
   ],
   "source": [
    "metodo_del_trapecio(lambda x:x**2,100,1,5)"
   ]
  },
  {
   "cell_type": "markdown",
   "metadata": {},
   "source": [
    "## Regla de Simpson"
   ]
  },
  {
   "cell_type": "code",
   "execution_count": 170,
   "metadata": {},
   "outputs": [],
   "source": [
    "def simpsons(fun, N, a, b):\n",
    "    if N%2==1:\n",
    "        print(\"Simpsons rule only applicable to even number of segments\")\n",
    "        return None\n",
    "    x = np.linspace(a, b, N+1)\n",
    "    dx = x[1]-x[0]\n",
    "    xleft = x[:-2:2]\n",
    "    xmiddle = x[1::2]\n",
    "    xright = x[2::2]\n",
    "    int_val = (dx/3) * sum( f(xleft) + 4*f(xmiddle) + f(xright) )\n",
    "    return int_val"
   ]
  },
  {
   "cell_type": "code",
   "execution_count": 171,
   "metadata": {},
   "outputs": [
    {
     "data": {
      "text/plain": [
       "41.33333333333337"
      ]
     },
     "execution_count": 171,
     "metadata": {},
     "output_type": "execute_result"
    }
   ],
   "source": [
    "simpsons(lambda x:x**2,100,1,5)"
   ]
  },
  {
   "cell_type": "markdown",
   "metadata": {},
   "source": [
    "## Cuadratura Gaussiana"
   ]
  },
  {
   "cell_type": "code",
   "execution_count": 188,
   "metadata": {},
   "outputs": [],
   "source": [
    "def gaussianquad(fun, N, a, b):\n",
    "    x, w = gaussian_nodes_and_weights(N,a,b)\n",
    "    int_val = sum( w * fun(x) )\n",
    "    return int_val\n",
    "def gaussian_nodes_and_weights(N, a, b):\n",
    "    if N==1: \n",
    "        return np.array([1]), np.array([2])\n",
    "    beta = .5 / np.sqrt(1.-(2.*np.arange(1.,N))**(-2))\n",
    "    T = np.diag(beta,1) + np.diag(beta,-1)\n",
    "    D, V = np.linalg.eigh(T)\n",
    "    x = D\n",
    "    x = .5 * ( (b-a)*x + b + a) # Rescaling\n",
    "    w = 2*V[0,:]**2\n",
    "    w = .5*(b-a)*w\n",
    "    return x, w"
   ]
  },
  {
   "cell_type": "code",
   "execution_count": 189,
   "metadata": {},
   "outputs": [
    {
     "data": {
      "text/plain": [
       "41.33333333333332"
      ]
     },
     "execution_count": 189,
     "metadata": {},
     "output_type": "execute_result"
    }
   ],
   "source": [
    "gaussianquad(lambda x:x**2,100,1,5)"
   ]
  },
  {
   "cell_type": "code",
   "execution_count": 202,
   "metadata": {},
   "outputs": [
    {
     "data": {
      "application/vnd.jupyter.widget-view+json": {
       "model_id": "9b2b071aab894a2b9e9d667317ebf936",
       "version_major": 2,
       "version_minor": 0
      },
      "text/plain": [
       "interactive(children=(IntSlider(value=5, description='k', max=200, min=1), Output()), _dom_classes=('widget-in…"
      ]
     },
     "metadata": {},
     "output_type": "display_data"
    },
    {
     "data": {
      "text/plain": [
       "<function __main__.power_iteration(A, x, k)>"
      ]
     },
     "execution_count": 202,
     "metadata": {},
     "output_type": "execute_result"
    }
   ],
   "source": [
    "interact(power_iteration,A=fixed(ma),x=fixed(np.ones((10,1))),k=widgets.IntSlider(min=1, max=200, step=1, value=5))"
   ]
  },
  {
   "cell_type": "markdown",
   "metadata": {},
   "source": [
    "### Numpy"
   ]
  },
  {
   "cell_type": "code",
   "execution_count": 190,
   "metadata": {},
   "outputs": [],
   "source": [
    "#np.arange() #https://docs.scipy.org/doc/numpy/reference/generated/numpy.arange.html\n",
    "#np.dot() #https://docs.scipy.org/doc/numpy/reference/generated/numpy.dot.html\n",
    "#np.eye() #https://docs.scipy.org/doc/numpy/reference/generated/numpy.eye.html\n",
    "#np.diag() #https://docs.scipy.org/doc/numpy/reference/generated/numpy.diag.html\n",
    "#np.vectorize() #https://docs.scipy.org/doc/numpy/reference/generated/numpy.vectorize.html\n",
    "\n",
    "#np.random.seed() #https://docs.scipy.org/doc/numpy-1.15.0/reference/generated/numpy.random.seed.html\n",
    "#np.random.random() #https://docs.scipy.org/doc/numpy-1.15.0/reference/generated/numpy.random.random.html\n",
    "\n",
    "#np.linalg.norm() #https://docs.scipy.org/doc/numpy/reference/generated/numpy.linalg.norm.html\n",
    "#np.linalg.qr() #https://docs.scipy.org/doc/numpy/reference/generated/numpy.linalg.qr.html\n",
    "#np.linalg.eig() #https://docs.scipy.org/doc/numpy/reference/generated/numpy.linalg.eig.html\n",
    "#np.linalg.solve() #https://docs.scipy.org/doc/numpy-1.15.0/reference/generated/numpy.linalg.solve.html"
   ]
  },
  {
   "cell_type": "markdown",
   "metadata": {},
   "source": [
    "### Scipy"
   ]
  },
  {
   "cell_type": "code",
   "execution_count": null,
   "metadata": {},
   "outputs": [],
   "source": [
    "#sparse matrix  #https://docs.scipy.org/doc/scipy/reference/sparse.html"
   ]
  },
  {
   "cell_type": "markdown",
   "metadata": {},
   "source": [
    "### ipywidgets"
   ]
  },
  {
   "cell_type": "code",
   "execution_count": null,
   "metadata": {},
   "outputs": [],
   "source": [
    "#interact() #https://ipywidgets.readthedocs.io/en/latest/examples/Using%20Interact.html"
   ]
  }
 ],
 "metadata": {
  "kernelspec": {
   "display_name": "Python 3",
   "language": "python",
   "name": "python3"
  },
  "language_info": {
   "codemirror_mode": {
    "name": "ipython",
    "version": 3
   },
   "file_extension": ".py",
   "mimetype": "text/x-python",
   "name": "python",
   "nbconvert_exporter": "python",
   "pygments_lexer": "ipython3",
   "version": "3.6.10"
  }
 },
 "nbformat": 4,
 "nbformat_minor": 4
}
